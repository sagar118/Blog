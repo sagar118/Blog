{
 "cells": [
  {
   "cell_type": "markdown",
   "id": "999cac55",
   "metadata": {},
   "source": [
    "# \"Path to become a Machine Learning Expert\"\n",
    "> \"Comprehensive learning path to become an expert in Machine Learning\"\n",
    "\n",
    "- toc:true\n",
    "- branch: master\n",
    "- badges: true\n",
    "- comments: true\n",
    "- author: Sagar Thacker\n",
    "- image: images/posts/path_to_master_ml.jpg\n",
    "- categories: [Machine Learning, Learning Path]"
   ]
  },
  {
   "cell_type": "markdown",
   "id": "df78dfb9",
   "metadata": {},
   "source": [
    "Path to becoming a Machine Learning (ML) Expert made easy. There are a lot of resources out there that can be overwhelming at the start. But don’t worry this learning path would provide structure and lay the foundational knowledge to begin a career in ML."
   ]
  },
  {
   "cell_type": "markdown",
   "id": "fc5549ad",
   "metadata": {},
   "source": [
    "## 1. Learn the basics of Descriptive Statistics, Inferential Statistics and Math used in Machine Learning"
   ]
  },
  {
   "cell_type": "markdown",
   "id": "5197ebee",
   "metadata": {},
   "source": [
    "Understanding the math used in ML can help in building the foundation strong. Udacity offers courses on [descriptive statistics](https://www.udacity.com/course/intro-to-descriptive-statistics--ud827) and [inferential statistics](https://www.udacity.com/course/intro-to-inferential-statistics--ud201). These courses are free and use excel to teach the concepts.\n",
    "\n",
    "Along with statistics and probabilities, concepts on linear algebra, multivariate calculus, optimization functions and many more form the building blocks for ML. There is an awesome youtube channel that makes these concepts very easy to learn. [3Brown1Blue](https://www.youtube.com/channel/UCYO_jab_esuFRV4b17AJtAw) focuses on teaching mathematics using a distinct visual perspective."
   ]
  },
  {
   "cell_type": "markdown",
   "id": "678ffcb1",
   "metadata": {},
   "source": [
    "More resources:\n",
    "\n",
    "- [Computational Linear Algebra for Coders](https://github.com/fastai/numerical-linear-algebra)<br>\n",
    "- [Prof. Gilbert Strang’s Linear Algebra book/course](https://ocw.mit.edu/courses/mathematics/18-06-linear-algebra-spring-2010/video-lectures/)<br>\n",
    "- [Matrix Cookbook by Kaare Brandt Petersen & Michael Syskind Pedersen](https://www2.imm.dtu.dk/pubdb/edoc/imm3274.pdf)<br>\n",
    "- [Think Stats (Exploratory Data Analysis in Python) by Allen Downey](https://greenteapress.com/thinkstats2/thinkstats2.pdf)<br>\n",
    "- [Convex Optimization by Stephen Boyd and Lieven Vandenberghe](https://web.stanford.edu/~boyd/cvxbook/bv_cvxbook.pdf)<br>\n",
    "- [Essentials of Metaheuristics by Sean Luke](https://cs.gmu.edu/~sean/book/metaheuristics/Essentials.pdf)<br>"
   ]
  },
  {
   "cell_type": "markdown",
   "id": "e3d2dc34",
   "metadata": {},
   "source": [
    "## 2. Learn the basics of Python and it’s packages"
   ]
  },
  {
   "cell_type": "markdown",
   "id": "822f4030",
   "metadata": {},
   "source": [
    "First, let’s install Python. The easiest way to do this is by installing [Anaconda](https://docs.anaconda.com/anaconda/install/). All the packages that are required come along with Anaconda.\n",
    "\n",
    "You can start from learning the basics of Python i.e. data structures, functions, class, etc. and it’s libraries. I started learning about python in my college days, I read the book [Learn Python the Hard Way](https://github.com/tranlamkhanhtuong/Learn-Python-3-The-Hard-Way). A very good book for beginners. [Introduction to Python Programming](https://www.udacity.com/course/introduction-to-python--ud1110) by Udacity is a free course that covers the basics of Python. [Introduction to Python](https://courses.analyticsvidhya.com/courses/introduction-to-data-science) is another free course by Analytics Vidhya. Another free course by Google is [Google’s Python Class](https://developers.google.com/edu/python/).\n",
    "\n",
    "Next, learn about how to use Regular Expression (also called regex) in Python. It will come in use for data cleaning, especially if you are working with text data. [Learn regular expressions](https://developers.google.com/edu/python/regular-expressions) through Google class. A very good [beginner tutorial for learning regular expression in python](https://www.analyticsvidhya.com/blog/2015/06/regular-expression-python/) on Analytics Vidhya. [Cheatsheet](https://www.debuggex.com/cheatsheet/regex/python) for Regex.\n",
    "\n",
    "Now comes the fun part of learning the various libraries in Python. Numpy, Pandas, Matplotlib, Seaborn, and Sklearn are the packages heavily used in ML.\n",
    "\n",
    "- Numpy provides a high-performance multidimensional array and basic tools to compute with and manipulate these arrays. Numpy [quickstart tutorial](https://numpy.org/doc/stable/user/quickstart.html) is a good place to start. This will form a good foundation for this to come. Practice numpy by solving [100 numpy exercises](https://github.com/arshahuja/numpy-practice) to solve.\n",
    "- Pandas is used for data manipulation and analysis. The most used package in Python is Pandas. [Intro to pandas data structure](http://www.gregreda.com/2013/10/26/intro-to-pandas-data-structures/) provides a detailed tutorial on pandas. A [short course](https://www.kaggle.com/learn/pandas) by Kaggle on pandas.\n",
    "- Matplotlib is a visualization library in python. In the [matplotlib tutorial](https://www.datacamp.com/community/tutorials/matplotlib-tutorial-python), you will learn the basics of Python data visualization, the anatomy of a Matplotlib plot, and much more. [Official documentation](https://matplotlib.org/tutorials/index.html) of matplotlib is one of the best ways to learn the library.\n",
    "- Seaborn is another visualization library built on top of matplotlib. Kaggle [short course](https://www.kaggle.com/learn/data-visualization) on data visualization provides a good start point to learn the library."
   ]
  },
  {
   "cell_type": "markdown",
   "id": "22dcfdab",
   "metadata": {},
   "source": [
    "## 3. Data Exploration/Cleaning/Preparation"
   ]
  },
  {
   "cell_type": "markdown",
   "id": "11b01fad",
   "metadata": {},
   "source": [
    "Real-world data is unstructured, contains missing values, outliers, typos, etc. This step is one of the most important steps for a data analyst to perform because how good the model will perform will depend on the quality of the data.\n",
    "\n",
    "Learn different stages of data explorations:\n",
    "\n",
    "1. [Variable Identification, Univariate and Multivariate analysis](https://www.analyticsvidhya.com/blog/2016/01/guide-data-exploration/#one)\n",
    "2. [Missing values treatment](https://www.analyticsvidhya.com/blog/2016/01/guide-data-exploration/#two)\n",
    "3. [Outlier treatment](https://www.analyticsvidhya.com/blog/2016/01/guide-data-exploration/#three)\n",
    "4. [Feature Engineering](https://www.analyticsvidhya.com/blog/2016/01/guide-data-exploration/#four)\n",
    "\n",
    "Additional resources:\n",
    "- You can also refer to the [data exploration guide](https://www.analyticsvidhya.com/blog/2015/04/comprehensive-guide-data-exploration-sas-using-python-numpy-scipy-matplotlib-pandas/).\n",
    "- Book on [Python for Data Analysis](https://github.com/Jffrank/Books/blob/master/Python%20for%20Data%20Analysis.%20Data%20Wrangling%20with%20Pandas%2C%20NumPy%2C%20and%20IPython%20(2017%2C%20O%E2%80%99Reilly).pdf) by Wes McKinney"
   ]
  },
  {
   "cell_type": "markdown",
   "id": "67548b85",
   "metadata": {},
   "source": [
    "## 4. Introduction to Machine Learning"
   ]
  },
  {
   "cell_type": "markdown",
   "id": "e06959f0",
   "metadata": {},
   "source": [
    "Now it’s time to enter the belly of the beast. There are various resources to learn ML and I would suggest the following courses:\n",
    "\n",
    "1. [Machine Learning by Stanford (Coursera)](https://www.coursera.org/learn/machine-learning)<br>\n",
    "The Machine Learning course by Andrew Ng is one of the best courses out there and covers all the basic algorithms. Also, it introduces all the advanced topics in a very simple manner which is easy to understand. However, this course is taught in Octave rather than the popular languages like R/Python. Also, this course is **NOT free** but you can apply for financial aid.\n",
    "\n",
    "2. [Machine Learning A-Z™: Hands-On Python & R In Data Science (Udemy)](https://www.udemy.com/course/machinelearning/?LSNPUBID=bt30QTxEyjA&ranEAID=bt30QTxEyjA&ranMID=39197&ranSiteID=bt30QTxEyjA-Z__CJ_iATD8yhClAGPkupg&utm_medium=udemyads&utm_source=aff-campaign)<br>\n",
    "Good course for beginners. Explore complex topics such as natural language processing (NLP), reinforcement learning (RL), deep learning (DL) among many others. Tons of practice exercise and quizzes. This course is **NOT free** but comparatively not expensive.\n",
    "\n",
    "3. [Machine Learning (edx)](https://www.edx.org/course/machine-learning?source=aw&awc=6798_1595771625_0c3e2e910a604788e98ca3faa15acb04&utm_source=aw&utm_medium=affiliate_partner&utm_content=text-link&utm_term=315645_LearnDataSci)<br>\n",
    "This is an **advanced** course that has the highest math prerequisite out of any other course in this list. You’ll need a very firm grasp of Linear Algebra, Calculus, Probability, and programming. This course is **free** of cost but to acquire a certificate payment is required.\n",
    "\n",
    "4. [Comprehensive learning path for Data Science (Analytics Vidhya)](https://courses.analyticsvidhya.com/courses/a-comprehensive-learning-path-to-become-a-data-scientist-in-2020)<br>\n",
    "This course covers every topic right from the beginning. Installing Python, data cleaning and preparation, Machine learning concepts, deep learning, and NLP. This course is **free** and does not come with any certification.\n",
    "\n",
    "Books:\n",
    "1. [The Hundred Page Machine Learning Book](http://themlbook.com/wiki/doku.php)\n",
    "2. [The Elements of Statistical Learning: Data Mining, Inference, and Prediction, Second Edition](https://web.stanford.edu/~hastie/Papers/ESLII.pdf)\n",
    "\n",
    "[List](https://hackr.io/blog/best-machine-learning-books) of best books for machine learning.\n",
    "\n",
    "After learning about the various techniques in ML the next natural thing to do is apply those techniques. What better place than [Kaggle](https://www.kaggle.com/). It is one of the most popular websites among data science enthusiasts. Below two problem statement can be a good starting problem statement to begin with.\n",
    "1. [Titanic: Machine Learning from Disaster](https://www.kaggle.com/c/titanic)\n",
    "2. [House Prices: Advanced Regression Techniques](https://www.kaggle.com/c/house-prices-advanced-regression-techniques)"
   ]
  },
  {
   "cell_type": "markdown",
   "id": "5c39ad7d",
   "metadata": {},
   "source": [
    "## 5. Deep Learning"
   ]
  },
  {
   "cell_type": "markdown",
   "id": "136c60fa",
   "metadata": {},
   "source": [
    "Using the idea to mimic a human brain has been around since the 1900s. There were various algorithms and techniques developed for the same but due to the lack of computing power, it was difficult to run those algorithms.\n",
    "\n",
    "Due to the improvements in the hardware and the introduction to using GPUs to compute caught the attention of people passionate about working on neural net-based models. Today, state of the art results can be obtained using deep neural networks.\n",
    "\n",
    "Courses from deeplearning.ai on Coursera are one of the most popular and fantastic courses on deep learning.\n",
    "1. [Neural Networks and Deep Learning](https://www.coursera.org/learn/neural-networks-deep-learning)\n",
    "2. [Deep Learning Specialization](https://www.coursera.org/specializations/deep-learning)\n",
    "\n",
    "Both the courses are paid but **financial aid** is available for both of them.\n",
    "\n",
    "Additional Resources:\n",
    "1. [Deep Learning Summer School, Montreal 2015](https://videolectures.net/deeplearning2015_montreal/)\n",
    "2. [Deep Learning for Perception](https://computing.ece.vt.edu/~f15ece6504/), Virginia Tech, Electrical, and Computer Engineering\n",
    "3. [CS231N 2017](https://www.youtube.com/playlist?list=PLzUTmXVwsnXod6WNdg57Yc3zFx_f-RYsq)\n",
    "4. A [blog](https://colah.github.io/) that explains concepts on Convolutional Neural Nets (CNN)\n",
    "5. (Book) [Deep Learning – Methods and Applications](https://drive.google.com/file/d/0B51wXUnyPM2ybVAwRXBrdFVPSk0/view)\n",
    "6. (Youtube Channel) [DeepLearning.TV](https://www.youtube.com/channel/UC9OeZkIwhzfv-_Cb7fCikLQ/videos)\n",
    "7. Deep Learning [book](https://www.deeplearningbook.org/) from MIT\n",
    "8. [Neural Networks and Deep Learning](http://neuralnetworksanddeeplearning.com/index.html) online Book\n",
    "9. Comprehensive resources on [deeplearning.net](https://deeplearning.net/)"
   ]
  },
  {
   "cell_type": "markdown",
   "id": "369abd3c",
   "metadata": {},
   "source": [
    "## 6. Natural Language Processing"
   ]
  },
  {
   "cell_type": "markdown",
   "id": "b5cfeae7",
   "metadata": {},
   "source": [
    "Natural language processing (NLP) is a branch of Artificial Intelligence which aims to bridge the gap between how a computer and human communicate with each other. The two major handles used for communication are speech and written i.e. text. If you are unfamiliar with what NLP is, this blog could help in understanding what NLP is.\n",
    "\n",
    "Courses:\n",
    "1. (Youtube) [Natural Language Processing | University of Michigan](https://www.youtube.com/watch?v=n25JjoixM3I&list=PLLssT5z_DsK8BdawOVCCaTCO99Ya58ryR)\n",
    "2. [Speech and Language Processing](https://web.stanford.edu/~jurafsky/slp3/)\n",
    "3. [Stanford CS224N: NLP with Deep Learning](https://www.youtube.com/watch?v=8rXD5-xhemo&list=PLoROMvodv4rOhcuXMZkNm7j3fVwBBY42z) | Winter 2019 – Stanford\n",
    "4. [Lecture Collection | Natural Language Processing with Deep Learning (Winter 2017)](https://www.youtube.com/watch?v=OQQ-W_63UgQ&list=PL3FW7Lu3i5Jsnh1rnUwq_TcylNr7EkRe6) – Stanford\n",
    "5. [CS224d: Deep Learning for Natural Language Processing](https://cs224d.stanford.edu/syllabus.html) – Stanford\n",
    "6. [Natural Language Processing Specialization](https://www.coursera.org/specializations/natural-language-processing) offered by deeplearning.ai on Coursera (Intermediate level)\n",
    "7. [Natural Language Processing](https://www.coursera.org/learn/language-processing) offered by National Research University Higher School of Economics on Coursera (Advanced level course)\n",
    "\n",
    "Machine Learning in itself is a huge domain and the only way to master it is to explore and practice. I cannot stress more on practice because without practice is like trying to play the guitar without any strings."
   ]
  },
  {
   "cell_type": "markdown",
   "id": "828a410b",
   "metadata": {},
   "source": [
    "Popular blogs to follow:\n",
    "1. [Analytics Vidhya](https://www.analyticsvidhya.com/)\n",
    "2. [Machine Learning Mastery](https://machinelearningmastery.com/)\n",
    "3. [Towards Data Science](https://towardsdatascience.com/)\n",
    "4. [KDnuggets](https://www.kdnuggets.com/)"
   ]
  },
  {
   "cell_type": "markdown",
   "id": "3be4f1a9",
   "metadata": {},
   "source": [
    "Additional Resources:\n",
    "1. [A Complete Python Tutorial to Learn Data Science from Scratch](https://www.analyticsvidhya.com/blog/2016/01/complete-tutorial-learn-data-science-python-scratch-2/)\n",
    "2. [A Comprehensive Learning Path for Deep Learning in 2019](https://www.analyticsvidhya.com/blog/2019/01/comprehensive-learning-path-deep-learning-2019/) on Analytics Vidhya\n",
    "3. [Learning Path to Master Computer Vision](https://www.analyticsvidhya.com/blog/2020/01/computer-vision-learning-path-2020/) in 2020 on Analytics Vidhya\n",
    "4. [A Comprehensive Learning Path to Understand and Master NLP in 2020](https://www.analyticsvidhya.com/blog/2020/01/learning-path-nlp-2020/) on Analytics Vidhya\n",
    "5. [A Comprehensive Guide to Understand and Implement Text Classification in Python](https://www.analyticsvidhya.com/blog/2018/04/a-comprehensive-guide-to-understand-and-implement-text-classification-in-python/) on Analytics Vidhya\n",
    "6. Collection of [datasets for NLP](https://courses.analyticsvidhya.com/courses/a-comprehensive-learning-path-to-become-a-data-scientist-in-2020)\n",
    "7. [A comprehensive Learning path to becoming a data scientist in 2020](https://courses.analyticsvidhya.com/courses/a-comprehensive-learning-path-to-become-a-data-scientist-in-2020) free course on Analytics Vidhya"
   ]
  },
  {
   "cell_type": "markdown",
   "id": "ff06d3b4",
   "metadata": {},
   "source": [
    "I wish you all the best on your journey to becoming a machine learning expert.\n",
    "\n",
    "Share if you like it, comment if you loved it. Hope to see you guys in the next one. Peace! "
   ]
  },
  {
   "cell_type": "markdown",
   "id": "378cfc5d",
   "metadata": {},
   "source": []
  },
  {
   "cell_type": "markdown",
   "id": "914465de",
   "metadata": {},
   "source": []
  }
 ],
 "metadata": {
  "kernelspec": {
   "display_name": "Python 3",
   "language": "python",
   "name": "python3"
  },
  "language_info": {
   "codemirror_mode": {
    "name": "ipython",
    "version": 3
   },
   "file_extension": ".py",
   "mimetype": "text/x-python",
   "name": "python",
   "nbconvert_exporter": "python",
   "pygments_lexer": "ipython3",
   "version": "3.9.2"
  }
 },
 "nbformat": 4,
 "nbformat_minor": 5
}
